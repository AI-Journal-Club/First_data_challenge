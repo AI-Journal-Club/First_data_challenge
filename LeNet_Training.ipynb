{
 "cells": [
  {
   "cell_type": "markdown",
   "id": "e10ac4c0-b2a4-4086-a53f-9172445d9da8",
   "metadata": {},
   "source": [
    "# Oracle-MNIST Training\n",
    "\n"
   ]
  },
  {
   "cell_type": "markdown",
   "id": "a446ee83",
   "metadata": {},
   "source": [
    "To run this you need to have the package 2dl installed: \n",
    "https://d2l.ai/chapter_installation/index.html\n"
   ]
  },
  {
   "cell_type": "code",
   "execution_count": 5,
   "id": "c294c2c6",
   "metadata": {},
   "outputs": [],
   "source": [
    "import torch\n",
    "from torch import nn\n",
    "from d2l import torch as d2l\n",
    "\n",
    "from utils import images_train, labels_train, images_test, labels_test"
   ]
  },
  {
   "cell_type": "markdown",
   "id": "6f3d0d19",
   "metadata": {},
   "source": [
    "# LeNet"
   ]
  },
  {
   "cell_type": "markdown",
   "id": "d785c624",
   "metadata": {},
   "source": [
    "Read more about LeNet (LeCun et al 1998): https://d2l.ai/chapter_convolutional-neural-networks/lenet.html"
   ]
  },
  {
   "cell_type": "code",
   "execution_count": 6,
   "id": "4f02530c-2400-4afd-9433-b370fbe71c66",
   "metadata": {},
   "outputs": [],
   "source": [
    "def init_cnn(module):  #@save\n",
    "    \"\"\"Initialize weights for CNNs.\"\"\"\n",
    "    if type(module) == nn.Linear or type(module) == nn.Conv2d:\n",
    "        nn.init.xavier_uniform_(module.weight)\n",
    "\n",
    "class LeNet(d2l.Classifier):  #@save\n",
    "    \"\"\"The LeNet-5 model.\"\"\"\n",
    "    def __init__(self, lr=0.1, num_classes=10):\n",
    "        super().__init__()\n",
    "        self.save_hyperparameters()\n",
    "        self.net = nn.Sequential(\n",
    "            nn.LazyConv2d(6, kernel_size=5, padding=2), nn.Sigmoid(),\n",
    "            nn.AvgPool2d(kernel_size=2, stride=2),\n",
    "            nn.LazyConv2d(16, kernel_size=5), nn.Sigmoid(),\n",
    "            nn.AvgPool2d(kernel_size=2, stride=2),\n",
    "            nn.Flatten(),\n",
    "            nn.LazyLinear(120), nn.Sigmoid(),\n",
    "            nn.LazyLinear(84), nn.Sigmoid(),\n",
    "            nn.LazyLinear(num_classes))\n",
    "        \n",
    "    def layer_summary(self, X_shape):\n",
    "        X = torch.randn(*X_shape)\n",
    "        for layer in self.net:\n",
    "            X = layer(X)\n",
    "            print(layer.__class__.__name__, 'output shape:\\t', X.shape)\n"
   ]
  },
  {
   "cell_type": "code",
   "execution_count": 7,
   "id": "b3a94549",
   "metadata": {},
   "outputs": [
    {
     "name": "stderr",
     "output_type": "stream",
     "text": [
      "/Users/mnegro/opt/anaconda3/envs/d2l/lib/python3.9/site-packages/torch/nn/modules/lazy.py:180: UserWarning: Lazy modules are a new feature under heavy development so changes to the API or functionality can happen at any moment.\n",
      "  warnings.warn('Lazy modules are a new feature under heavy development '\n"
     ]
    }
   ],
   "source": [
    "model = LeNet()"
   ]
  },
  {
   "cell_type": "code",
   "execution_count": 15,
   "id": "f067420b",
   "metadata": {},
   "outputs": [
    {
     "name": "stdout",
     "output_type": "stream",
     "text": [
      "Input image shape:\t torch.Size([28, 28])\n",
      "Input tensor shape:\t torch.Size([1, 28, 28])\n",
      "Conv2d output shape:\t torch.Size([6, 28, 28])\n",
      "Sigmoid output shape:\t torch.Size([6, 28, 28])\n",
      "AvgPool2d output shape:\t torch.Size([6, 14, 14])\n",
      "Conv2d output shape:\t torch.Size([16, 10, 10])\n",
      "Sigmoid output shape:\t torch.Size([16, 10, 10])\n",
      "AvgPool2d output shape:\t torch.Size([16, 5, 5])\n",
      "Flatten output shape:\t torch.Size([16, 25])\n",
      "Linear output shape:\t torch.Size([16, 120])\n",
      "Sigmoid output shape:\t torch.Size([16, 120])\n",
      "Linear output shape:\t torch.Size([16, 84])\n",
      "Sigmoid output shape:\t torch.Size([16, 84])\n",
      "Linear output shape:\t torch.Size([16, 10])\n"
     ]
    }
   ],
   "source": [
    "# Read one train image and check the layer output shapes\n",
    "image_example = torch.from_numpy(images_train[0])\n",
    "print('Input image shape:\\t', image_example.size())\n",
    "\n",
    "image_example = image_example.unsqueeze(0)  # Add batch dimension and the example\n",
    "print('Input tensor shape:\\t', image_example.size())\n",
    "\n",
    "model.layer_summary(image_example.shape)"
   ]
  },
  {
   "cell_type": "markdown",
   "id": "f025ded2",
   "metadata": {},
   "source": [
    "# Define a DataLoader class"
   ]
  },
  {
   "cell_type": "code",
   "execution_count": null,
   "id": "bf246093",
   "metadata": {},
   "outputs": [],
   "source": []
  }
 ],
 "metadata": {
  "kernelspec": {
   "display_name": "d2l",
   "language": "python",
   "name": "python3"
  },
  "language_info": {
   "codemirror_mode": {
    "name": "ipython",
    "version": 3
   },
   "file_extension": ".py",
   "mimetype": "text/x-python",
   "name": "python",
   "nbconvert_exporter": "python",
   "pygments_lexer": "ipython3",
   "version": "3.9.22"
  }
 },
 "nbformat": 4,
 "nbformat_minor": 5
}
